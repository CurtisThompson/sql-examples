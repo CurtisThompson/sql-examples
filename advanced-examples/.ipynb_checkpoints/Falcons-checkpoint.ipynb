{
 "cells": [
  {
   "cell_type": "markdown",
   "metadata": {},
   "source": [
    "# Set-Up"
   ]
  },
  {
   "cell_type": "code",
   "execution_count": 1,
   "metadata": {},
   "outputs": [],
   "source": [
    "import sqlite3\n",
    "import pandas as pd\n",
    "import matplotlib.pyplot as plt"
   ]
  },
  {
   "cell_type": "code",
   "execution_count": 2,
   "metadata": {},
   "outputs": [],
   "source": [
    "conn = sqlite3.connect('../data/data.db')\n",
    "c = conn.cursor()\n",
    "\n",
    "def execute_statement(statement):\n",
    "    c.execute(statement)\n",
    "    res = c.fetchall()\n",
    "    column_names = [description[0] for description in c.description]\n",
    "    return pd.DataFrame(res, columns=column_names)"
   ]
  },
  {
   "cell_type": "markdown",
   "metadata": {},
   "source": [
    "# Exploring Falcons In The Database\n",
    "There are 176,062 trade records involving falcons (a falcon is any species belonging to the genus _Falco_), and 43 different species of falcon found in the database."
   ]
  },
  {
   "cell_type": "code",
   "execution_count": 3,
   "metadata": {},
   "outputs": [
    {
     "data": {
      "text/html": [
       "<div>\n",
       "<style scoped>\n",
       "    .dataframe tbody tr th:only-of-type {\n",
       "        vertical-align: middle;\n",
       "    }\n",
       "\n",
       "    .dataframe tbody tr th {\n",
       "        vertical-align: top;\n",
       "    }\n",
       "\n",
       "    .dataframe thead th {\n",
       "        text-align: right;\n",
       "    }\n",
       "</style>\n",
       "<table border=\"1\" class=\"dataframe\">\n",
       "  <thead>\n",
       "    <tr style=\"text-align: right;\">\n",
       "      <th></th>\n",
       "      <th>Number of Falcon</th>\n",
       "      <th>Species of Falcon</th>\n",
       "    </tr>\n",
       "  </thead>\n",
       "  <tbody>\n",
       "    <tr>\n",
       "      <th>0</th>\n",
       "      <td>176062</td>\n",
       "      <td>43</td>\n",
       "    </tr>\n",
       "  </tbody>\n",
       "</table>\n",
       "</div>"
      ],
      "text/plain": [
       "   Number of Falcon  Species of Falcon\n",
       "0            176062                 43"
      ]
     },
     "execution_count": 3,
     "metadata": {},
     "output_type": "execute_result"
    }
   ],
   "source": [
    "execute_statement('''SELECT Count(Taxon) AS \"Number of Falcon\", Count(DISTINCT Taxon) AS \"Species of Falcon\"\n",
    "                     FROM cites WHERE Genus = \"Falco\"''')"
   ]
  },
  {
   "cell_type": "markdown",
   "metadata": {},
   "source": [
    "The cell below uses an SQL query to get the values for a bar chart, and then Pandas and Matplotlib are used to plot this graph. The graph shows the number of records for each of the 10 most frequent falcon species in the CITES database."
   ]
  },
  {
   "cell_type": "code",
   "execution_count": 4,
   "metadata": {},
   "outputs": [
    {
     "data": {
      "image/png": "[encoded data removed]",
      "text/plain": [
       "<Figure size 432x288 with 1 Axes>"
      ]
     },
     "metadata": {
      "needs_background": "light"
     },
     "output_type": "display_data"
    }
   ],
   "source": [
    "# SQL statement to get bar chart values\n",
    "res = execute_statement('''SELECT Taxon, Count(Taxon) AS Records\n",
    "                        FROM cites\n",
    "                        WHERE Genus = \"Falco\"\n",
    "                        GROUP BY Taxon\n",
    "                        ORDER BY Count(Taxon) DESC\n",
    "                        LIMIT 10''')\n",
    "\n",
    "# Plot bar chart\n",
    "ax = res.plot(kind='bar')\n",
    "ax.set_xticklabels(res.Taxon)\n",
    "plt.show()"
   ]
  },
  {
   "cell_type": "markdown",
   "metadata": {},
   "source": [
    "The SQL statement below shows the species of falcon that are in the CITES database, as well as having been found in Leicestershire."
   ]
  },
  {
   "cell_type": "code",
   "execution_count": 5,
   "metadata": {},
   "outputs": [
    {
     "data": {
      "text/html": [
       "<div>\n",
       "<style scoped>\n",
       "    .dataframe tbody tr th:only-of-type {\n",
       "        vertical-align: middle;\n",
       "    }\n",
       "\n",
       "    .dataframe tbody tr th {\n",
       "        vertical-align: top;\n",
       "    }\n",
       "\n",
       "    .dataframe thead th {\n",
       "        text-align: right;\n",
       "    }\n",
       "</style>\n",
       "<table border=\"1\" class=\"dataframe\">\n",
       "  <thead>\n",
       "    <tr style=\"text-align: right;\">\n",
       "      <th></th>\n",
       "      <th>Taxon</th>\n",
       "    </tr>\n",
       "  </thead>\n",
       "  <tbody>\n",
       "    <tr>\n",
       "      <th>0</th>\n",
       "      <td>Falco tinnunculus</td>\n",
       "    </tr>\n",
       "    <tr>\n",
       "      <th>1</th>\n",
       "      <td>Falco vespertinus</td>\n",
       "    </tr>\n",
       "    <tr>\n",
       "      <th>2</th>\n",
       "      <td>Falco columbarius</td>\n",
       "    </tr>\n",
       "    <tr>\n",
       "      <th>3</th>\n",
       "      <td>Falco subbuteo</td>\n",
       "    </tr>\n",
       "    <tr>\n",
       "      <th>4</th>\n",
       "      <td>Falco peregrinus</td>\n",
       "    </tr>\n",
       "  </tbody>\n",
       "</table>\n",
       "</div>"
      ],
      "text/plain": [
       "               Taxon\n",
       "0  Falco tinnunculus\n",
       "1  Falco vespertinus\n",
       "2  Falco columbarius\n",
       "3     Falco subbuteo\n",
       "4   Falco peregrinus"
      ]
     },
     "execution_count": 5,
     "metadata": {},
     "output_type": "execute_result"
    }
   ],
   "source": [
    "execute_statement('''SELECT LeicestershireBirds.Taxon\n",
    "                     FROM LeicestershireBirds\n",
    "                     INNER JOIN (SELECT Taxon, Genus FROM cites WHERE Genus = \"Falco\" GROUP BY Taxon) AS Cit\n",
    "                     ON LeicestershireBirds.Taxon = Cit.Taxon\n",
    "                     WHERE Cit.Genus = \"Falco\"''')"
   ]
  },
  {
   "cell_type": "markdown",
   "metadata": {},
   "source": [
    "# Falcon Entries Over Time\n",
    "\n",
    "The cell below creates a line graph of the number of falcon records per year, showing that the number of falcon records has been increasing yearly since 2000. The years 2019 and 2020 has been excluded due to incomplete records."
   ]
  },
  {
   "cell_type": "code",
   "execution_count": 6,
   "metadata": {},
   "outputs": [
    {
     "data": {
      "image/png": "[encoded data removed]",
      "text/plain": [
       "<Figure size 432x288 with 1 Axes>"
      ]
     },
     "metadata": {
      "needs_background": "light"
     },
     "output_type": "display_data"
    }
   ],
   "source": [
    "res = execute_statement('''SELECT Year, Count(Year) AS \"Records\"\n",
    "                           FROM cites\n",
    "                           WHERE Genus = \"Falco\" and Year < 2019\n",
    "                           GROUP BY Year\n",
    "                           ORDER BY Year''')\n",
    "\n",
    "ax = res.plot(kind='line', y='Records', xticks=res.index[::2])\n",
    "ax.set_xticklabels(res.Year[::2])\n",
    "plt.show()"
   ]
  },
  {
   "cell_type": "markdown",
   "metadata": {},
   "source": [
    "We can also work out what proportion of the records each year are falcon records by dividing the yearly falcon totals by the overall yearly totals. A line graph plotted with these results show that falcon records are representing an increasingly large proportion of the total CITES records."
   ]
  },
  {
   "cell_type": "code",
   "execution_count": 7,
   "metadata": {},
   "outputs": [
    {
     "data": {
      "image/png": "[encoded data removed]",
      "text/plain": [
       "<Figure size 432x288 with 1 Axes>"
      ]
     },
     "metadata": {
      "needs_background": "light"
     },
     "output_type": "display_data"
    }
   ],
   "source": [
    "res = execute_statement('''SELECT cites.Year, CAST(FalconRecords.Records AS FLOAT) / COUNT(cites.Year) AS \"Percentage of Records\"\n",
    "                           FROM cites\n",
    "                           INNER JOIN (SELECT Year, Count(Year) AS \"Records\"\n",
    "                                       FROM cites\n",
    "                                       WHERE Genus = \"Falco\" and Year < 2019\n",
    "                                       GROUP BY Year) AS FalconRecords\n",
    "                           ON cites.Year = FalconRecords.Year\n",
    "                           WHERE cites.Year < 2019\n",
    "                           GROUP BY cites.Year\n",
    "                           ORDER BY cites.Year''')\n",
    "\n",
    "\n",
    "ax = res.plot(kind='line', y='Percentage of Records', xticks=res.index[::2])\n",
    "ax.set_xticklabels(res.Year[::2])\n",
    "plt.show()"
   ]
  }
 ],
 "metadata": {
  "kernelspec": {
   "display_name": "Python 3",
   "language": "python",
   "name": "python3"
  },
  "language_info": {
   "codemirror_mode": {
    "name": "ipython",
    "version": 3
   },
   "file_extension": ".py",
   "mimetype": "text/x-python",
   "name": "python",
   "nbconvert_exporter": "python",
   "pygments_lexer": "ipython3",
   "version": "3.7.6"
  }
 },
 "nbformat": 4,
 "nbformat_minor": 4
}
