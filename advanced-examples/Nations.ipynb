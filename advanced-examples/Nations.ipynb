{
 "cells": [
  {
   "cell_type": "markdown",
   "metadata": {},
   "source": [
    "# Set-Up"
   ]
  },
  {
   "cell_type": "code",
   "execution_count": 1,
   "metadata": {},
   "outputs": [],
   "source": [
    "import sqlite3\n",
    "import pandas as pd"
   ]
  },
  {
   "cell_type": "code",
   "execution_count": 2,
   "metadata": {},
   "outputs": [],
   "source": [
    "conn = sqlite3.connect('../data/data.db')\n",
    "c = conn.cursor()\n",
    "\n",
    "def execute_statement(statement):\n",
    "    c.execute(statement)\n",
    "    res = c.fetchall()\n",
    "    column_names = [description[0] for description in c.description]\n",
    "    return pd.DataFrame(res, columns=column_names)"
   ]
  },
  {
   "cell_type": "markdown",
   "metadata": {},
   "source": [
    "# Countries of Europe\n",
    "In this first section we will create a table in the database containing all of the country codes for territories that are partially or completely in Europe. Each of these country codes also also shown in the table below.\n",
    "\n",
    "| Code | Country |\n",
    "|---|---|\n",
    "| AD | Andorra |\n",
    "| AL | Albania |\n",
    "| AM | Armenia |\n",
    "| AT | Austria |\n",
    "| AX | Aland Islands |\n",
    "| AZ | Azerbaijan |\n",
    "| BA | Bosnia and Herzegovina |\n",
    "| BE | Belgium |\n",
    "| BG | Bulgaria |\n",
    "| BY | Belarus |\n",
    "| CH | Switzerland |\n",
    "| CS | Former Serbia and Montenegro |\n",
    "| CY | Cyprus |\n",
    "| CZ | Czech Republic |\n",
    "| DD | Former East Germany |\n",
    "| DE | Germany |\n",
    "| DK | Denmark |\n",
    "| EE | Estonia |\n",
    "| ES | Spain |\n",
    "| FI | Finland |\n",
    "| FO | Faroe Islands |\n",
    "| FR | France |\n",
    "| GB | United Kingdom of Great Britain and Northern Ireland |\n",
    "| GE | Georgia |\n",
    "| GG | Guernsey |\n",
    "| GI | Gibraltar |\n",
    "| GR | Greece |\n",
    "| HR | Croatia |\n",
    "| HU | Hungary |\n",
    "| IE | Ireland |\n",
    "| IM | Isle of Man |\n",
    "| IS | Iceland |\n",
    "| IT | Italy |\n",
    "| JE | Jersey |\n",
    "| LI | Liechtenstein |\n",
    "| LT | Lithuania |\n",
    "| LU | Luxembourg |\n",
    "| LV | Latvia |\n",
    "| MC | Monaco |\n",
    "| MD | Republic of Moldova |\n",
    "| ME | Montenegro |\n",
    "| MT | Malta |\n",
    "| NL | Netherlands |\n",
    "| NO | Norway |\n",
    "| PL | Poland |\n",
    "| PT | Portugal |\n",
    "| RO | Romania |\n",
    "| RS | Serbia |\n",
    "| RU | Russian Federation |\n",
    "| SE | Sweden |\n",
    "| SI | Slovenia |\n",
    "| SK | Slovakia |\n",
    "| SM | San Marino |\n",
    "| SU | Former Soviet Union |\n",
    "| TR | Turkey |\n",
    "| UA | Ukraine |\n",
    "| VA | Holy See |\n",
    "| XE | Europe |\n",
    "| YU | Former Yugoslavia |\n",
    "| ZC | Former Czechoslovakia |"
   ]
  },
  {
   "cell_type": "code",
   "execution_count": 3,
   "metadata": {},
   "outputs": [],
   "source": [
    "# Create the table\n",
    "c.execute('''CREATE TABLE IF NOT EXISTS EuropeTerritories\n",
    "             (\n",
    "                 Code varchar(3),\n",
    "                 Territory varchar(255)\n",
    "             )''')\n",
    "\n",
    "# Get a Python list of territories\n",
    "countries = [('AD', 'Andorra'), ('AL', 'Albania'), ('AM', 'Armenia'), ('AT', 'Austria'), ('AX', 'Aland Islands'),\n",
    "             ('AZ', 'Azerbaijan'), ('BA', 'Bosnia and Herzegovina'), ('BE', 'Belgium'), ('BG', 'Bulgaria'),\n",
    "             ('BY', 'Belarus'), ('CH', 'Switzerland'), ('CS', 'Former Serbia and Montenegro'), ('CY', 'Cyprus'),\n",
    "             ('CZ', 'Czech Republic'), ('DD', 'Former East Germany'), ('DE', 'Germany'), ('DK', 'Denmark'),\n",
    "             ('EE', 'Estonia'), ('ES', 'Spain'), ('FI', 'Finland'), ('FO', 'Faroe Islands'), ('FR', 'France'),\n",
    "             ('GB', 'United Kingdom of Great Britain and Northern Ireland'), ('GE', 'Georgia'), ('GG', 'Guernsey'),\n",
    "             ('GI', 'Gibraltar'), ('GR', 'Greece'), ('HR', 'Croatia'), ('HU', 'Hungary'), ('IE', 'Ireland'),\n",
    "             ('IM', 'Isle of Man'), ('IS', 'Iceland'), ('IT', 'Italy'), ('JE', 'Jersey'), ('LI', 'Liechtenstein'),\n",
    "             ('LT', 'Lithuania'), ('LU', 'Luxembourg'), ('LV', 'Latvia'), ('MC', 'Monaco'), ('MD', 'Republic of Moldova'),\n",
    "             ('ME', 'Montenegro'), ('MT', 'Malta'), ('NL', 'Netherlands'), ('NO', 'Norway'), ('PL', 'Poland'),\n",
    "             ('PT', 'Portugal'), ('RO', 'Romania'), ('RS', 'Serbia'), ('RU', 'Russian Federation'), ('SE', 'Sweden'),\n",
    "             ('SI', 'Slovenia'), ('SK', 'Slovakia'), ('SM', 'San Marino'), ('SU', 'Former Soviet Union'),\n",
    "             ('TR', 'Turkey'), ('UA', 'Ukraine'), ('VA', 'Holy See'), ('XE', 'Europe'), ('YU', 'Former Yugoslavia'),\n",
    "             ('ZC', 'Former Czechoslovakia')]\n",
    "\n",
    "# Add countries to the table\n",
    "for pair in countries:\n",
    "    c.execute('INSERT INTO EuropeTerritories VALUES(\"' + pair[0] + '\", \"' + pair[1] + '\")')"
   ]
  },
  {
   "cell_type": "markdown",
   "metadata": {},
   "source": [
    "This extra step is to check that we have managed to insert all 60 codes into our new EuropeTerritories table."
   ]
  },
  {
   "cell_type": "code",
   "execution_count": 4,
   "metadata": {},
   "outputs": [
    {
     "data": {
      "text/html": [
       "<div>\n",
       "<style scoped>\n",
       "    .dataframe tbody tr th:only-of-type {\n",
       "        vertical-align: middle;\n",
       "    }\n",
       "\n",
       "    .dataframe tbody tr th {\n",
       "        vertical-align: top;\n",
       "    }\n",
       "\n",
       "    .dataframe thead th {\n",
       "        text-align: right;\n",
       "    }\n",
       "</style>\n",
       "<table border=\"1\" class=\"dataframe\">\n",
       "  <thead>\n",
       "    <tr style=\"text-align: right;\">\n",
       "      <th></th>\n",
       "      <th>COUNT(*)</th>\n",
       "    </tr>\n",
       "  </thead>\n",
       "  <tbody>\n",
       "    <tr>\n",
       "      <th>0</th>\n",
       "      <td>60</td>\n",
       "    </tr>\n",
       "  </tbody>\n",
       "</table>\n",
       "</div>"
      ],
      "text/plain": [
       "   COUNT(*)\n",
       "0        60"
      ]
     },
     "execution_count": 4,
     "metadata": {},
     "output_type": "execute_result"
    }
   ],
   "source": [
    "execute_statement('SELECT COUNT(*) FROM EuropeTerritories')"
   ]
  },
  {
   "cell_type": "markdown",
   "metadata": {},
   "source": [
    "# Clean-Up\n",
    "To clean up the database and ensure that it does not interfere with other notebooks, we will delete the EuropeTerritories table."
   ]
  },
  {
   "cell_type": "code",
   "execution_count": 5,
   "metadata": {},
   "outputs": [
    {
     "data": {
      "text/plain": [
       "<sqlite3.Cursor at 0x25554907a40>"
      ]
     },
     "execution_count": 5,
     "metadata": {},
     "output_type": "execute_result"
    }
   ],
   "source": [
    "c.execute('DROP TABLE EuropeTerritories')"
   ]
  }
 ],
 "metadata": {
  "kernelspec": {
   "display_name": "Python 3",
   "language": "python",
   "name": "python3"
  },
  "language_info": {
   "codemirror_mode": {
    "name": "ipython",
    "version": 3
   },
   "file_extension": ".py",
   "mimetype": "text/x-python",
   "name": "python",
   "nbconvert_exporter": "python",
   "pygments_lexer": "ipython3",
   "version": "3.7.6"
  }
 },
 "nbformat": 4,
 "nbformat_minor": 4
}
